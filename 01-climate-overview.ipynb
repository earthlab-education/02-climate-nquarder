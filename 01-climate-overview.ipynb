{
  "cells": [
    {
      "cell_type": "markdown",
      "id": "e8c4ae4b-7c96-4b05-b0da-b443b113dddf",
      "metadata": {},
      "source": [
        "# Climate Coding Challenge\n",
        "\n",
        "Climate change is impacting the way people live around the world\n",
        "\n",
        "# Part 1: Overview\n",
        "\n",
        "Higher highs, lower lows, storms, and smoke – we’re all feeling the\n",
        "effects of climate change. In this workflow, you will take a look at\n",
        "trends in temperature over time in Boulder, CO.\n",
        "\n",
        "<link rel=\"stylesheet\" type=\"text/css\" href=\"./assets/styles.css\"><div class=\"callout callout-style-default callout-titled callout-discuss\"><div class=\"callout-header\"><div class=\"callout-icon-container\"><i class=\"callout-icon\"></i></div><div class=\"callout-title-container flex-fill\">Conversation Starter</div></div><div class=\"callout-body-container callout-body\"><p>In a <em>bulleted list</em>, how is climate change affecting your\n",
        "home?</p></div></div>"
      ]
    },
    {
      "cell_type": "markdown",
      "id": "81f83cfa-4094-444a-b364-576e7ce1401a",
      "metadata": {},
      "source": [
        "# How is climate change affecting my home?\n",
        "\n",
        "* Wildfires are becoming more frequent and more intense\n",
        "* Summers are becoming warmer and drier\n",
        "* It is more expensive to cool my home in the summertime"
      ]
    }
  ],
  "metadata": {
    "kernelspec": {
      "display_name": "Learning Portal",
      "language": "python",
      "name": "learning-portal"
    },
    "language_info": {
      "codemirror_mode": {
        "name": "ipython",
        "version": "3"
      },
      "file_extension": ".py",
      "mimetype": "text/x-python",
      "name": "python",
      "nbconvert_exporter": "python",
      "pygments_lexer": "ipython3",
      "version": "3.11.13"
    }
  },
  "nbformat": 4,
  "nbformat_minor": 5
}
